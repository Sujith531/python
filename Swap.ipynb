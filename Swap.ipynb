{
  "nbformat": 4,
  "nbformat_minor": 0,
  "metadata": {
    "colab": {
      "name": "Swap.ipynb",
      "provenance": [],
      "authorship_tag": "ABX9TyNB+GKG0iTUFFHUmJsu6f39",
      "include_colab_link": true
    },
    "kernelspec": {
      "name": "python3",
      "display_name": "Python 3"
    },
    "language_info": {
      "name": "python"
    }
  },
  "cells": [
    {
      "cell_type": "markdown",
      "metadata": {
        "id": "view-in-github",
        "colab_type": "text"
      },
      "source": [
        "<a href=\"https://colab.research.google.com/github/Sujith531/python/blob/main/Swap.ipynb\" target=\"_parent\"><img src=\"https://colab.research.google.com/assets/colab-badge.svg\" alt=\"Open In Colab\"/></a>"
      ]
    },
    {
      "cell_type": "code",
      "metadata": {
        "colab": {
          "base_uri": "https://localhost:8080/"
        },
        "id": "nMsvm2KgKt-p",
        "outputId": "68f573fe-90d0-4ea5-a1f1-27bdb7096ffc"
      },
      "source": [
        " \n",
        "a=20\n",
        "b=15\n",
        "print(\"Before Swapping\")\n",
        "print(\"a=\",a)\n",
        "print(\"b=\",b)\n",
        "temp=a\n",
        "a=b\n",
        "b=temp\n",
        "print(\"After Swapping\")\n",
        "print(\"a=\",a)\n",
        "print(\"b=\",b)"
      ],
      "execution_count": 1,
      "outputs": [
        {
          "output_type": "stream",
          "text": [
            "Before Swapping\n",
            "a= 20\n",
            "b= 15\n",
            "After Swapping\n",
            "a= 15\n",
            "b= 20\n"
          ],
          "name": "stdout"
        }
      ]
    }
  ]
}